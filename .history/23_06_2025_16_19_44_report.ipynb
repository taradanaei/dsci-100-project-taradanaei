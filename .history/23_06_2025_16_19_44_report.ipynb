{
 "cells": [
  {
   "cell_type": "markdown",
   "id": "d0b675a3-8bf7-4e84-9f83-9b8e6cfa981c",
   "metadata": {},
   "source": [
    "# Data Science Final Report Project"
   ]
  },
  {
   "cell_type": "markdown",
   "id": "0f25e750-ce5a-446a-b611-e7a69a1e19c0",
   "metadata": {},
   "source": [
    "## Introduction\n",
    "\n"
   ]
  },
  {
   "cell_type": "markdown",
   "id": "c19d52c8-a190-4933-a8b6-2e67effb2b06",
   "metadata": {},
   "source": [
    "### body\n"
   ]
  },
  {
   "cell_type": "code",
   "execution_count": null,
   "id": "351dc3eb-3edd-4272-8913-11410e7ab74d",
   "metadata": {},
   "outputs": [],
   "source": [
    "library(tidyverse)\n",
    "library(repr)\n",
    "library(dplyr)"
   ]
  },
  {
   "cell_type": "code",
   "execution_count": null,
   "id": "e8880d10-e893-464b-a5f5-1022209bc627",
   "metadata": {},
   "outputs": [],
   "source": [
    "players_data<-read_csv(\"data/players.csv\")\n",
    "sessions_data<-read_csv(\"data/sessions.csv\")\n",
    "\n",
    "players_data\n",
    "sessions_data"
   ]
  },
  {
   "cell_type": "code",
   "execution_count": null,
   "id": "b0d338ea-1349-4a73-84b7-e646140b0c54",
   "metadata": {},
   "outputs": [],
   "source": []
  }
 ],
 "metadata": {
  "kernelspec": {
   "display_name": "R",
   "language": "R",
   "name": "ir"
  },
  "language_info": {
   "codemirror_mode": "r",
   "file_extension": ".r",
   "mimetype": "text/x-r-source",
   "name": "R",
   "pygments_lexer": "r",
   "version": "4.3.3"
  }
 },
 "nbformat": 4,
 "nbformat_minor": 5
}
