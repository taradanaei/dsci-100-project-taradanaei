{
 "cells": [
  {
   "cell_type": "markdown",
   "id": "d0b675a3-8bf7-4e84-9f83-9b8e6cfa981c",
   "metadata": {},
   "source": [
    "# Data Science Final Report Project"
   ]
  },
  {
   "cell_type": "markdown",
   "id": "0f25e750-ce5a-446a-b611-e7a69a1e19c0",
   "metadata": {},
   "source": [
    "## Introduction\n",
    "\n",
    "A group of our UBC, led by Frank Wood, has created a Minecraft server with the aim of collecting useful data on how players play video games. Each player's activity is logged as they play the game and interact with the world, which has contributed to a rich set of data that will be used today to answer the second area of interest; Which types of players are most likely to contribute a large amount of data on the Minecraft server. To do this, I would like to examine and focus the relationship between the variables aAge against Played Hours, to see if an indivudals age impacts the number of hours someone will play and therefore, how much data a player will contribute to the data set. \n",
    "\n",
    "## Question\n",
    "This dataset is used to answer the question:\n",
    "Can a player's age predict how many hours they contribute to the dataset? My goal with this question is to be able to identify the typical person,  based on Age and experience that will be the most contributing allowing the research team to focus their recruitment efforts on the most valuable participants.\n",
    "\n",
    "\n",
    "\n",
    "\n",
    "## Dataset Description: \n",
    "The dataset collected by the research group consists of two filers - Players.csv and Sessions.csv but for my analysis, I will be using players.csv. Players.csv is a dataset with 7 variables and 196 observations. \n",
    "The dataset includes 7 variables. \n",
    "\n",
    "| Variable      | Data Type            | Description                                                       |\n",
    "| ------------- | -------------------- | ----------------------------------------------------------------- |\n",
    "| experience    | Categorical (chr)    | Player’s self-reported experience level (e.g., “Beginner”, “Pro”) |\n",
    "| subscribe     | Logical (TRUE/FALSE) | Indicates whether the player subscribed to updates                |\n",
    "| hashedEmail   | Categorical (chr)    | Anonymized player email (not used in analysis)                    |\n",
    "| played\\_hours | Numeric (dbl)        | Total hours spent on the server (used as the response variable)   |\n",
    "| name          | Categorical (chr)    | Player’s first name (not used in analysis)                        |\n",
    "| gender        | Categorical (chr)    | Player’s self-identified gender                                   |\n",
    "| Age           | Numeric (dbl)        | Player’s age in years (used as a predictor variable)              |\n",
    "\n",
    "\n",
    "\n"
   ]
  },
  {
   "cell_type": "code",
   "execution_count": null,
   "id": "351dc3eb-3edd-4272-8913-11410e7ab74d",
   "metadata": {},
   "outputs": [],
   "source": [
    "library(tidyverse)\n",
    "library(repr)\n",
    "library(dplyr)\n",
    "library(tidymodels) "
   ]
  },
  {
   "cell_type": "markdown",
   "id": "49d7362e-d7f6-4ebd-ac79-aa0d8e6b1449",
   "metadata": {},
   "source": [
    "## Data Wrangling"
   ]
  },
  {
   "cell_type": "code",
   "execution_count": null,
   "id": "e8880d10-e893-464b-a5f5-1022209bc627",
   "metadata": {},
   "outputs": [],
   "source": [
    "players_data<-read_csv(\"data/players.csv\")\n",
    "\n",
    "players_data\n"
   ]
  },
  {
   "cell_type": "code",
   "execution_count": null,
   "id": "b0d338ea-1349-4a73-84b7-e646140b0c54",
   "metadata": {},
   "outputs": [],
   "source": [
    "players_data<-players_data|>\n",
    "select(Age, played_hours)|>\n",
    "mutate(Age = as.numeric(Age),played_hours = as.numeric(played_hours))|>\n",
    "filter(!is.na(Age), !is.na(played_hours))\n",
    "\n",
    "players_data"
   ]
  },
  {
   "cell_type": "code",
   "execution_count": null,
   "id": "ec8ea56f-16a6-479c-b0ac-7636e3480d66",
   "metadata": {},
   "outputs": [],
   "source": [
    "options(repr.plot.width = 15, repr.plot.height = 15)\n",
    "players_plot<- players_data|>\n",
    "ggplot(aes(x=Age,  y= played_hours)) +\n",
    "  geom_point(alpha = 0.5, na.rm = TRUE) +\n",
    "  labs(title = \"Figure 1: Relationship between Age and Played Hours\",\n",
    "    x = \"Age (in years)\",\n",
    "    y = \"Played Hours (in hours)\")\n",
    "\n",
    "players_plot"
   ]
  },
  {
   "cell_type": "markdown",
   "id": "5a964916-4607-4f71-ae77-e33bfe113238",
   "metadata": {},
   "source": [
    "I started by importing the CSV with read_csv(\"data/players.csv\") to load my dataset into R. Next, I called select(Age, played_hours) from dplyr to keep only the two variables I need, and used mutate(Age = as.numeric(Age), played_hours = as.numeric(played_hours)) to make both of these variablesnumeric to guarantee R treats them as continuous for plotting and modeling. Next, I visualised my data and to give my scatterplot plenty of room, I set options(repr.plot.width = 15, repr.plot.height = 15), which expands the output area. For the plot itself, I built a ggplot(aes(x = Age, y = played_hours)) object, added geom_point(alpha = 0.5, na.rm = TRUE) so overlapping points become semi-transparent and any missing values are ignored, and finished with labs() to supply a clear title and axis labels to ensure that my visualisation was clear to follow. However,  I think the main issue with my visualisation is how densely clustered some of the points are which makes it difficult to interpret. I tried to mitigate this by changing the plot height and width, but, if I had the skills, I'd want to figure out a way to fix this. Since I didn't notice a strong linear relationship, I will next use knn regression and also try to use linear regression just to see. \n"
   ]
  },
  {
   "cell_type": "markdown",
   "id": "339a5d83-c53f-45b1-9c2c-3251044272b5",
   "metadata": {},
   "source": [
    "## KNN Regression"
   ]
  },
  {
   "cell_type": "code",
   "execution_count": null,
   "id": "b01873d7-4295-4632-b81d-ad152b3cff32",
   "metadata": {},
   "outputs": [],
   "source": [
    "set.seed(123)\n",
    "split         <- initial_split(players_data, prop = 0.8)\n",
    "players_train <- training(split)\n",
    "players_test  <- testing(split)\n",
    "\n",
    "knn_recipe <- recipe(played_hours ~ Age, data = players_train) |>\n",
    "  step_scale(all_predictors())|>\n",
    "  step_center(all_predictors())\n",
    "\n",
    "\n",
    "knn_spec <- nearest_neighbor(\n",
    "    weight_func = \"rectangular\",\n",
    "    neighbors   = tune()) |>\n",
    "  set_engine(\"kknn\") |>\n",
    "  set_mode(\"regression\")\n",
    "\n",
    "knn_workflow <- workflow() |>\n",
    "  add_model(knn_spec) |>\n",
    "  add_recipe(knn_recipe)\n",
    "\n",
    "knn_folds <- vfold_cv(players_train, v = 5)\n",
    "\n",
    "knn_results <- tune_grid(\n",
    "  knn_workflow,\n",
    "  resamples = knn_folds,\n",
    "  grid      = tibble(neighbors = 1:10),\n",
    "  metrics   = metric_set(rmse)\n",
    ")\n",
    "\n",
    "best_k <- knn_results |>\n",
    "  select_best(\"rmse\") |>\n",
    "  pull(neighbors)\n",
    "#Best K=10\n",
    "\n",
    "final_knn_spec <- nearest_neighbor(\n",
    "    mode      = \"regression\",\n",
    "    neighbors = best_k\n",
    "  ) |>\n",
    "  set_engine(\"kknn\")\n",
    "\n",
    "final_knn_workflow <- workflow() |>\n",
    "  add_model(final_knn_spec) |>\n",
    "  add_recipe(knn_recipe)\n",
    "\n",
    "final_knn_fit <- final_knn_workflow |>\n",
    "  fit(data = players_train)\n",
    "\n",
    "knn_rmse <- predict(final_knn_fit, players_test) |>\n",
    "  bind_cols(players_test) |>\n",
    "  metrics(truth = played_hours, estimate = .pred) |>\n",
    "  filter(.metric == \"rmse\") |>\n",
    "  pull(.estimate)\n",
    "\n",
    "knn_rmse\n"
   ]
  },
  {
   "cell_type": "markdown",
   "id": "7eaf05c8-00d5-4342-b18d-8d45dfab1e04",
   "metadata": {},
   "source": [
    "## Linear Regression\n"
   ]
  },
  {
   "cell_type": "code",
   "execution_count": null,
   "id": "0cde58d6-bbf2-4c4b-bd4c-8d209eeece9b",
   "metadata": {},
   "outputs": [],
   "source": [
    "set.seed(123)\n",
    "split         <- initial_split(players_data, prop = 0.8)\n",
    "players_train <- training(split)\n",
    "players_test  <- testing(split)\n",
    "\n",
    "lm_spec <- linear_reg() |>\n",
    "  set_engine(\"lm\") |>\n",
    "  set_mode(\"regression\")\n",
    "\n",
    "lm_wf <- workflow() |>\n",
    "  add_model(lm_spec) |>\n",
    "  add_formula(played_hours ~ Age)\n",
    "\n",
    "lm_fit <- lm_wf |>\n",
    "  fit(data = players_train)\n",
    "\n",
    "lm_rmse <- lm_fit |>\n",
    "  predict(players_test) |>\n",
    "  bind_cols(players_test) |>\n",
    "  rmse(truth = played_hours, estimate = .pred) |>\n",
    "  pull(.estimate)\n",
    "\n",
    "lm_rmse"
   ]
  },
  {
   "cell_type": "markdown",
   "id": "1d9361e0-d491-49c8-a885-ddbfd1deed16",
   "metadata": {},
   "source": [
    "Based on the RMSE of both regression types, linear and knn, it's apparent that Linear regression is a better analysis tool for this dataset. Lower RMSE means the model’s predictions are, on average, closer to the true values, so it’s a better fit. RMSE measures the square-root of average squared errors, so a smaller number indicates smaller prediction errors and in this case, linear regression has an RMSE of 35.9 while KNN regression has an RMSE of 36.9. "
   ]
  },
  {
   "cell_type": "code",
   "execution_count": null,
   "id": "9f46cd64-54f8-4aae-8d4f-b22dab4092b5",
   "metadata": {},
   "outputs": [],
   "source": [
    "library(ggplot2)\n",
    "\n",
    "linear_reg_plot<-ggplot(players_data, aes(x = Age, y = played_hours)) +\n",
    "  geom_point(alpha = 0.4) +\n",
    "  geom_smooth(method = \"lm\", se = FALSE) +\n",
    "  labs(title = \"Figure: Linear Regression of Played Hours on Age\",\n",
    "    x     = \"Age (years)\",\n",
    "    y     = \"Played Hours\") \n",
    "\n",
    "linear_reg_plot"
   ]
  },
  {
   "cell_type": "code",
   "execution_count": null,
   "id": "76d766a8-d5b7-4cd8-b90c-65020ca0f475",
   "metadata": {},
   "outputs": [],
   "source": []
  }
 ],
 "metadata": {
  "kernelspec": {
   "display_name": "R",
   "language": "R",
   "name": "ir"
  },
  "language_info": {
   "codemirror_mode": "r",
   "file_extension": ".r",
   "mimetype": "text/x-r-source",
   "name": "R",
   "pygments_lexer": "r",
   "version": "4.3.3"
  }
 },
 "nbformat": 4,
 "nbformat_minor": 5
}
