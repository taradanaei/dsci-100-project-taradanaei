{
 "cells": [
  {
   "cell_type": "markdown",
   "id": "d0b675a3-8bf7-4e84-9f83-9b8e6cfa981c",
   "metadata": {},
   "source": [
    "# Data Science Final Report Project"
   ]
  },
  {
   "cell_type": "markdown",
   "id": "0f25e750-ce5a-446a-b611-e7a69a1e19c0",
   "metadata": {},
   "source": [
    "## Introduction\n",
    "\n",
    "A group of our UBC, led by Frank Wood, has created a Minecraft server with the aim of collecting useful data on how players play video games. Each player's activity is logged as they play the game and interact with the world, which has contributed to a rich set of data that will be used today to answer the second area of interest; Which types of players are most likely to contribute a large amount of data on the Minecraft server. To do this, I would like to examine and focus the relationship between the variables Gender and Experience against Played Hours, to see if they gender and experience impact the number of hours someone will play and therefore, how much data a player will contribute to the data set. So, my final question Can gender and experience predict played hours in minecraft.is My goal with this question is to be able to identify the typical person,  based on Age and experience that will be the most contributing allowing the research team to focus their recruitment efforts on the most valuable participants.\n",
    "\n",
    "\n",
    "\n",
    "\n",
    "Dataset Description: \n",
    "The dataset collected by the research group consists of two filers - Players.csv and Sessions.csv but for my analysis, I will be using players.csv. Players.csv is a dataset with 7 variables and 196 observations. \n",
    "\n"
   ]
  },
  {
   "cell_type": "markdown",
   "id": "c19d52c8-a190-4933-a8b6-2e67effb2b06",
   "metadata": {},
   "source": [
    "### body\n"
   ]
  },
  {
   "cell_type": "code",
   "execution_count": null,
   "id": "351dc3eb-3edd-4272-8913-11410e7ab74d",
   "metadata": {},
   "outputs": [],
   "source": [
    "\\library(tidyverse)\n",
    "library(repr)\n",
    "library(dplyr)"
   ]
  },
  {
   "cell_type": "code",
   "execution_count": null,
   "id": "e8880d10-e893-464b-a5f5-1022209bc627",
   "metadata": {},
   "outputs": [],
   "source": [
    "players_data<-read_csv(\"data/players.csv\")\n",
    "sessions_data<-read_csv(\"data/sessions.csv\")\n",
    "\n",
    "players_data\n",
    "sessions_data"
   ]
  },
  {
   "cell_type": "code",
   "execution_count": null,
   "id": "b0d338ea-1349-4a73-84b7-e646140b0c54",
   "metadata": {},
   "outputs": [],
   "source": []
  }
 ],
 "metadata": {
  "kernelspec": {
   "display_name": "R",
   "language": "R",
   "name": "ir"
  },
  "language_info": {
   "codemirror_mode": "r",
   "file_extension": ".r",
   "mimetype": "text/x-r-source",
   "name": "R",
   "pygments_lexer": "r",
   "version": "4.3.3"
  }
 },
 "nbformat": 4,
 "nbformat_minor": 5
}
